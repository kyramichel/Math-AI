{
  "nbformat": 4,
  "nbformat_minor": 0,
  "metadata": {
    "colab": {
      "provenance": []
    },
    "kernelspec": {
      "name": "python3",
      "display_name": "Python 3"
    },
    "language_info": {
      "name": "python"
    }
  },
  "cells": [
    {
      "cell_type": "markdown",
      "source": [
        "# Tensors in Deep Learning:\n",
        "\n",
        "A Simple Mathematical Explanation"
      ],
      "metadata": {
        "id": "mBu_hFH6TqmW"
      }
    },
    {
      "cell_type": "markdown",
      "source": [
        "\n",
        "\n",
        "In the context of deep learning, **tensors** are fundamental data structures. They generalize scalars, vectors, and matrices to higher dimensions and are central to the functioning of deep neural networks.\n",
        "\n",
        "#### 1. **Mathematical Definition of Tensors**\n",
        "\n",
        "Mathematically, **tensors** are often defined as **multilinear maps** that act on vectors, and they generalize scalars, vectors, and matrices in a way that they describe a relationship between vectors and covectors in a multi-dimensional space.\n",
        "\n",
        "- **Scalars**: A scalar is a 0-dimensional tensor (just a number).\n",
        "- **Vectors**: A vector is a 1-dimensional tensor, a collection of numbers arranged in a single row or column.\n",
        "- **Matrices**: A matrix is a 2-dimensional tensor, an array of numbers with rows and columns.\n",
        "- **Higher-Dimensional Tensors**: Higher-dimensional tensors can have more dimensions (like 3D, 4D, etc.), each with a specific shape or structure.\n",
        "\n",
        "In pure mathematics, a tensor $ T $ is a multilinear map:\n",
        "$T: V_1 \\times V_2 \\times \\cdots \\times V_k \\rightarrow W $\n",
        "where $ V_1, V_2, \\dots, V_k $ are vector spaces, and $ W $ is the output space.\n",
        "\n",
        "The important idea is that a tensor defines a mapping between different vector spaces. The key here is that tensors are **multilinear**, meaning they exhibit linearity with respect to each argument.\n"
      ],
      "metadata": {
        "id": "CGkyvWbJTL7Q"
      }
    },
    {
      "cell_type": "markdown",
      "source": [
        "\n",
        "#### 2. **Tensors in Deep Learning**\n",
        "\n",
        "In deep learning, tensors are used to store data, weights, and activations. When we use a **tensor** in deep learning, we are typically working with a **multidimensional array**.\n",
        "\n",
        "- **Scalars** are single numbers (0D tensor).\n",
        "- **Vectors** are arrays with one dimension (1D tensor).\n",
        "- **Matrices** are 2D arrays (2D tensor).\n",
        "- **Higher-dimensional arrays** (e.g., 3D, 4D arrays) are used for representing more complex data such as images (3D) and batches of images (4D).\n",
        "\n",
        "#### 3. **Tensor code implementation using Python**\n",
        "\n",
        "#### Pytorch example:"
      ],
      "metadata": {
        "id": "WFV4sfZXTNLX"
      }
    },
    {
      "cell_type": "code",
      "source": [
        "import torch\n",
        "\n",
        "# Scalar (0D tensor)\n",
        "scalar = torch.tensor(5)\n",
        "print(\"Scalar (0D tensor):\")\n",
        "print(scalar)\n",
        "print(scalar.shape)  # Shape is empty, as it's just a number\n",
        "\n",
        "# Vector (1D tensor)\n",
        "vector = torch.tensor([1, 2, 3])\n",
        "print(\"\\nVector (1D tensor):\")\n",
        "print(vector)\n",
        "print(vector.shape)  # Shape is (3,), a 1D tensor with 3 elements\n",
        "\n",
        "# Matrix (2D tensor)\n",
        "matrix = torch.tensor([[1, 2, 3], [4, 5, 6]])\n",
        "print(\"\\nMatrix (2D tensor):\")\n",
        "print(matrix)\n",
        "print(matrix.shape)  # Shape is (2, 3), a 2D tensor with 2 rows and 3 columns\n",
        "\n",
        "# Higher-Dimensional Tensor (3D tensor)\n",
        "tensor_3d = torch.tensor([[[1, 2], [3, 4]], [[5, 6], [7, 8]]])\n",
        "print(\"\\nHigher-Dimensional Tensor (3D tensor):\")\n",
        "print(tensor_3d)\n",
        "print(tensor_3d.shape)  # Shape is (2, 2, 2), a 3D tensor"
      ],
      "metadata": {
        "colab": {
          "base_uri": "https://localhost:8080/"
        },
        "id": "5SVvq2FpUhdU",
        "outputId": "e2f455a5-eec0-4ce1-dbe4-69cb8fdf200c"
      },
      "execution_count": 1,
      "outputs": [
        {
          "output_type": "stream",
          "name": "stdout",
          "text": [
            "Scalar (0D tensor):\n",
            "tensor(5)\n",
            "torch.Size([])\n",
            "\n",
            "Vector (1D tensor):\n",
            "tensor([1, 2, 3])\n",
            "torch.Size([3])\n",
            "\n",
            "Matrix (2D tensor):\n",
            "tensor([[1, 2, 3],\n",
            "        [4, 5, 6]])\n",
            "torch.Size([2, 3])\n",
            "\n",
            "Higher-Dimensional Tensor (3D tensor):\n",
            "tensor([[[1, 2],\n",
            "         [3, 4]],\n",
            "\n",
            "        [[5, 6],\n",
            "         [7, 8]]])\n",
            "torch.Size([2, 2, 2])\n"
          ]
        }
      ]
    },
    {
      "cell_type": "markdown",
      "source": [
        "#### TensorFlow Example:"
      ],
      "metadata": {
        "id": "5vbi9hdmU0fn"
      }
    },
    {
      "cell_type": "code",
      "source": [
        "import tensorflow as tf\n",
        "\n",
        "# Scalar (0D tensor)\n",
        "scalar = tf.constant(5)\n",
        "print(\"Scalar (0D tensor):\")\n",
        "print(scalar)\n",
        "print(scalar.shape)  # Shape is empty, as it's just a number\n",
        "\n",
        "# Vector (1D tensor)\n",
        "vector = tf.constant([1, 2, 3])\n",
        "print(\"\\nVector (1D tensor):\")\n",
        "print(vector)\n",
        "print(vector.shape)  # Shape is (3,), a 1D tensor with 3 elements\n",
        "\n",
        "# Matrix (2D tensor)\n",
        "matrix = tf.constant([[1, 2, 3], [4, 5, 6]])\n",
        "print(\"\\nMatrix (2D tensor):\")\n",
        "print(matrix)\n",
        "print(matrix.shape)  # Shape is (2, 3), a 2D tensor with 2 rows and 3 columns\n",
        "\n",
        "# Higher-Dimensional Tensor (3D tensor)\n",
        "tensor_3d = tf.constant([[[1, 2], [3, 4]], [[5, 6], [7, 8]]])\n",
        "print(\"\\nHigher-Dimensional Tensor (3D tensor):\")\n",
        "print(tensor_3d)\n",
        "print(tensor_3d.shape)  # Shape is (2, 2, 2), a 3D tensor\n"
      ],
      "metadata": {
        "colab": {
          "base_uri": "https://localhost:8080/"
        },
        "id": "KhYFt7HZU3_O",
        "outputId": "23c4467b-b9a5-4614-ef0a-96d8b3bc42e5"
      },
      "execution_count": 2,
      "outputs": [
        {
          "output_type": "stream",
          "name": "stdout",
          "text": [
            "Scalar (0D tensor):\n",
            "tf.Tensor(5, shape=(), dtype=int32)\n",
            "()\n",
            "\n",
            "Vector (1D tensor):\n",
            "tf.Tensor([1 2 3], shape=(3,), dtype=int32)\n",
            "(3,)\n",
            "\n",
            "Matrix (2D tensor):\n",
            "tf.Tensor(\n",
            "[[1 2 3]\n",
            " [4 5 6]], shape=(2, 3), dtype=int32)\n",
            "(2, 3)\n",
            "\n",
            "Higher-Dimensional Tensor (3D tensor):\n",
            "tf.Tensor(\n",
            "[[[1 2]\n",
            "  [3 4]]\n",
            "\n",
            " [[5 6]\n",
            "  [7 8]]], shape=(2, 2, 2), dtype=int32)\n",
            "(2, 2, 2)\n"
          ]
        }
      ]
    },
    {
      "cell_type": "markdown",
      "source": [
        "#### 4. **Linking Tensors to Multilinear Maps in Math**\n",
        "\n",
        "The key idea from **multilinear maps** in mathematics is that **tensors** act in a **multidimensional space**, where each dimension can be thought of as a different vector space. A tensor can be viewed as a **multilinear map** because it allows us to compute relationships between different sets of data (vectors, matrices, or higher-dimensional structures) in a linear way.\n",
        "\n",
        "For instance, in deep learning, the tensor $ X$ representing an image can be mapped via a set of weights $ W $ (another tensor) to produce an output $Y $ (another tensor). This relationship is linear, and the computation follows the principles of a multilinear map:\n",
        "\n",
        "$$\n",
        "Y = W \\cdot X\n",
        "$$\n",
        "\n",
        "This transformation is done for each input across multiple layers in a neural network, where each layer can be represented by a tensor transformation.\n",
        "\n",
        "In summary:\n",
        "- A **tensor** is a generalized data structure used in deep learning to represent multi-dimensional data.\n",
        "- Mathematically, a tensor is a **multilinear map** between vector spaces.\n",
        "- Tensors generalize scalars, vectors, and matrices to higher dimensions and allow operations (such as addition, multiplication) to be performed across dimensions.\n",
        "- In deep learning, these tensors represent input data, model parameters (weights), and activations in neural networks.\n"
      ],
      "metadata": {
        "id": "ABBjKWdFV6ZC"
      }
    },
    {
      "cell_type": "markdown",
      "source": [
        "\n",
        "#### 5. **Other applications of tensors: Differential Geometry**\n",
        "\n",
        "Differential geometry is the mathematical framework used to study curves, surfaces, and more general spaces. It’s crucial for understanding the curvature of spacetime in general relativity. Here's how tensors come into play:\n",
        "\n",
        "#### a) **Manifolds**:\n",
        "In general relativity, the universe is modeled as a **4-dimensional manifold** (a space that locally looks like Euclidean space, but globally can be curved). Tensors provide the tools to describe the geometry of these manifolds.\n",
        "\n",
        "#### b) **Metric Tensor** ($ g_{\\mu\\nu} $):\n",
        "The **metric tensor** is a key tensor in differential geometry. It describes the structure of spacetime, telling us how distances are measured. In the context of general relativity:\n",
        "- The **metric** determines how we compute the length of a curve or the distance between two points in spacetime.\n",
        "- The curvature of spacetime is encoded in how the metric changes from point to point.\n",
        "\n",
        "#### c) **Curvature Tensors**:\n",
        "To understand how spacetime curves in response to mass and energy, differential geometry uses **curvature tensors**, including:\n",
        "- **Riemann curvature tensor** ($ R^\\rho_{\\sigma\\mu\\nu} $): Describes the curvature of spacetime at a point.\n",
        "- **Ricci tensor** ($ R_{\\mu\\nu} $): A trace of the Riemann tensor, it measures the curvature experienced by matter.\n",
        "- **Ricci scalar** ($ R $): The simplest curvature measure, representing the overall curvature of spacetime at a point.\n",
        "\n",
        "#### d) **Geodesics**:\n",
        "A **geodesic** is the shortest path between two points in curved space. In flat space (Euclidean geometry), geodesics are straight lines, but in curved space (spacetime), they can be curved. Tensors are used to describe the curvature of geodesics.\n",
        "\n",
        "The **geodesic equation**:\n",
        "\n",
        "$$\n",
        "\\frac{d^2 x^\\mu}{d\\tau^2} + \\Gamma^\\mu_{\\rho\\sigma} \\frac{dx^\\rho}{d\\tau} \\frac{dx^\\sigma}{d\\tau} = 0\n",
        "$$\n",
        "\n",
        "Where:\n",
        "- $ \\frac{d^2 x^\\mu}{d\\tau^2} $: Acceleration of an object along a geodesic.\n",
        "- $ \\Gamma^\\mu_{\\rho\\sigma} $: **Christoffel symbols** (connection coefficients) — encodes how the spacetime metric changes as you move through spacetime.\n",
        "- $\\tau $: Proper time (the time experienced by an object moving along the geodesic).\n",
        "\n",
        "This equation governs the motion of objects under gravity, where gravity is described as the curvature of spacetime rather than a force in the traditional sense.\n",
        "\n",
        "#### 6. **Einstein’s Equations**\n",
        "\n",
        "Einstein's field equations describe the spacetime using tensors.\n",
        "\n",
        "- Code example: solving Einstein equations numerically using specialized libraries to help perform tensor operations e.g., calculating Ricci curvature, metric tensor, and solving differential equations related to the geometry of spacetime:"
      ],
      "metadata": {
        "id": "78vEsxb2W5JK"
      }
    },
    {
      "cell_type": "code",
      "source": [
        "from sympy import symbols, Matrix\n",
        "from sympy.tensor import tensor\n",
        "\n",
        "# Define a 4D metric tensor (simplified)\n",
        "g = Matrix([[1, 0, 0, 0],\n",
        "            [0, -1, 0, 0],\n",
        "            [0, 0, -1, 0],\n",
        "            [0, 0, 0, -1]])\n",
        "\n",
        "# Ricci tensor example (simplified)\n",
        "# In reality, Ricci tensor is computed from the Riemann curvature tensor and requires differential geometry knowledge\n",
        "R = Matrix([[0, 0, 0, 0],\n",
        "            [0, 0, 0, 0],\n",
        "            [0, 0, 0, 0],\n",
        "            [0, 0, 0, 0]])\n",
        "\n",
        "# Simplified Einstein field equation: Riemann tensor = Stress-Energy tensor * Constant\n",
        "# Here you can add a more complex structure based on real tensor calculations\n",
        "T = Matrix([[0, 0, 0, 0],\n",
        "            [0, 1, 0, 0],\n",
        "            [0, 0, 1, 0],\n",
        "            [0, 0, 0, 1]])\n",
        "\n",
        "print(\"Metric Tensor (g):\")\n",
        "print(g)\n",
        "\n",
        "print(\"\\nRicci Tensor (R):\")\n",
        "print(R)\n",
        "\n",
        "print(\"\\nStress-Energy Tensor (T):\")\n",
        "print(T)\n"
      ],
      "metadata": {
        "colab": {
          "base_uri": "https://localhost:8080/"
        },
        "id": "2i4flufyXtmr",
        "outputId": "a540937e-58a9-480d-d3ec-a2cc94c6c428"
      },
      "execution_count": 4,
      "outputs": [
        {
          "output_type": "stream",
          "name": "stdout",
          "text": [
            "Metric Tensor (g):\n",
            "Matrix([[1, 0, 0, 0], [0, -1, 0, 0], [0, 0, -1, 0], [0, 0, 0, -1]])\n",
            "\n",
            "Ricci Tensor (R):\n",
            "Matrix([[0, 0, 0, 0], [0, 0, 0, 0], [0, 0, 0, 0], [0, 0, 0, 0]])\n",
            "\n",
            "Stress-Energy Tensor (T):\n",
            "Matrix([[0, 0, 0, 0], [0, 1, 0, 0], [0, 0, 1, 0], [0, 0, 0, 1]])\n"
          ]
        }
      ]
    },
    {
      "cell_type": "markdown",
      "source": [
        "#### 7. **Resources:**\n",
        "\n",
        "- [PyTorch Documentation](https://pytorch.org/docs/stable/tensors.html)\n",
        "- [TensorFlow Documentation](https://www.tensorflow.org/api_docs/python/tf/Tensor)\n",
        "\n"
      ],
      "metadata": {
        "id": "tYxhXV1kZaar"
      }
    }
  ]
}